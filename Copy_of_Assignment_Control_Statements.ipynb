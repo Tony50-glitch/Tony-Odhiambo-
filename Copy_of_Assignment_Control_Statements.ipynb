{
  "cells": [
    {
      "cell_type": "markdown",
      "metadata": {
        "id": "view-in-github",
        "colab_type": "text"
      },
      "source": [
        "<a href=\"https://colab.research.google.com/github/Tony50-glitch/Tony-Odhiambo-/blob/main/Copy_of_Assignment_Control_Statements.ipynb\" target=\"_parent\"><img src=\"https://colab.research.google.com/assets/colab-badge.svg\" alt=\"Open In Colab\"/></a>"
      ]
    },
    {
      "cell_type": "markdown",
      "metadata": {
        "id": "DoHBGO7RNWyd"
      },
      "source": [
        "## Exercise 02.1 (if-else)\n",
        "\n",
        "Consider the following assessment criteria which map a score out of 100 to an\n",
        "assessment grade:\n",
        "\n",
        "| Grade            | Raw score  (/100)      |\n",
        "| ---------------- | ---------------------- |\n",
        "| Excellent        | $\\ge 85$               |\n",
        "| Very good        | $\\ge 76.5$ and $< 85$  |\n",
        "| Good             | $\\ge 64$ and $< 76.5$  |\n",
        "| Need improvement | $\\ge 40$ and $< 64$    |\n",
        "| Did you try?     | $< 40$                 |\n",
        "\n",
        "Write a program that, given an a score, prints the appropriate grade. Print an error message if the input score is greater than 100 or less than zero."
      ]
    },
    {
      "cell_type": "code",
      "execution_count": 11,
      "metadata": {
        "id": "4Dpv1Ep5NWyg"
      },
      "outputs": [],
      "source": [
        "def get_grade(score):\n",
        "    if score < 0 or score > 100:\n",
        "        return \"Error: Score must be between 0 and 100.\"\n",
        "    elif score >= 85:\n",
        "        return \"Grade: Excellent\"\n",
        "    elif score >= 76.5:\n",
        "        return \"Grade: Very good\"\n",
        "    elif score >= 64:\n",
        "        return \"Grade: Good\"\n",
        "    elif score >= 40:\n",
        "        return \"Grade: Need improvement\"\n",
        "    else:\n",
        "        return \"Grade: Did you try?\""
      ]
    },
    {
      "cell_type": "code",
      "execution_count": 12,
      "metadata": {
        "colab": {
          "base_uri": "https://localhost:8080/"
        },
        "id": "tn6Gn-aNbu0k",
        "outputId": "72adef7e-a2ad-49a2-dfb9-41f8c2f05c28"
      },
      "outputs": [
        {
          "output_type": "stream",
          "name": "stdout",
          "text": [
            "Grade: Good\n"
          ]
        }
      ],
      "source": [
        "score = 72\n",
        "grade= get_grade(score)\n",
        "print(grade)"
      ]
    },
    {
      "cell_type": "markdown",
      "metadata": {
        "id": "qGF-xbCDNWyi"
      },
      "source": [
        "## Exercise 02.2 (bisection)\n",
        "\n",
        "Bisection is an iterative method for finding approximate roots of a function. Say we know that the function $f(x)$ has one root between $x_{0}$ and $x_{1}$ ($x_{0} < x_{1}$). We then:\n",
        "\n",
        "- Evaluate $f$ at the midpoint $x_{\\rm mid} = (x_0 + x_1)/2$, i.e. compute\n",
        "   $f_{\\rm mid} = f(x_{\\rm mid})$\n",
        "- Evaluate $f(x_0) \\cdot f(x_{\\rm mid})$\n",
        "\n",
        "  - if $f(x_0) \\cdot f(x_{\\rm mid}) < 0$:\n",
        "\n",
        "    $f$ must change sign somewhere between $x_0$ and $x_{\\rm mid}$, hence the root must lie between\n",
        "    $x_0$ and $x_{\\rm mid}$, so set $x_1 = x_{\\rm mid}$.\n",
        "   \n",
        "  - else:\n",
        "\n",
        "    $f$ must change sign somewhere between $x_{\\rm mid}$ and $x_1$, so set\n",
        "    $x_0 = x_{\\rm mid}$.\n",
        "\n",
        "The above steps can be repeated a specified number of times, or until $|f_{\\rm mid}|$\n",
        "is below a tolerance, with $x_{\\rm mid}$ being the approximate root.\n",
        "\n",
        "\n",
        "### Task\n",
        "\n",
        "The function\n",
        "\n",
        "$$\n",
        "f(x) = \\frac{x^{5}}{10} + x^3 - 10x^2 + 4x + 7\n",
        "$$\n",
        "\n",
        "\n",
        "has one root in the range $0 < x < 2$.\n",
        "\n",
        "1. Use the bisection method to find an approximate root $x_{r}$ using 20 iterations\n",
        "   (use a `for` loop).\n",
        "2. Use the bisection method to find an approximate root $x_{r}$ such that\n",
        "   $\\left| f(x_{r}) \\right| < 1 \\times 10^{-6}$ and report the number of iterations\n",
        "   required (use a `while` loop).\n",
        "\n",
        "Store the approximate root using the variable `x_mid`, and store $f(x_{\\rm mid})$ using the variable `f`.\n",
        "\n",
        "*Hint:* Use  `abs` to compute the absolute value of a number, e.g. `y = abs(x)` assigns the absolute value of `x` to `y`."
      ]
    },
    {
      "cell_type": "markdown",
      "metadata": {
        "id": "5nHPrqQENWyi"
      },
      "source": [
        "#### (1) Using a `for` loop."
      ]
    },
    {
      "cell_type": "code",
      "source": [
        "def f(x):\n",
        "    return (x**5) / 10 + x**3 - 10 * x**2 + 4 * x + 7\n",
        "# Initial end points\n",
        "x0 = 0.0\n",
        "x1 = 2.0\n",
        "\n",
        "# Use 20 iterations\n",
        "for n in range(20):\n",
        "    # Compute midpoint\n",
        "    x_mid = (x0 + x1) / 2\n",
        "    fmid= f(x_mid)\n",
        "\n",
        "    # Evaluate function at (i) left end-point and at (ii) midpoint\n",
        "    def f(x0):\n",
        "        return (x0**5) / 10 + x0**3 - 10 * x0**2 + 4 * x0 + 7\n",
        "    if f(x0) * f(x_mid) < 0:\n",
        "        x1 = x_mid\n",
        "    else:\n",
        "        x0 = x_mid\n",
        "\n",
        "\n",
        "    print(n, f(x0), f(x1), f(x_mid))"
      ],
      "metadata": {
        "colab": {
          "base_uri": "https://localhost:8080/"
        },
        "id": "oU5YSpKosrNE",
        "outputId": "3505ea2f-dd8f-4dcf-e2d6-0d2cfdcbf753"
      },
      "execution_count": 21,
      "outputs": [
        {
          "output_type": "stream",
          "name": "stdout",
          "text": [
            "0 2.0999999999999996 -13.8 2.0999999999999996\n",
            "1 2.0999999999999996 -5.365625000000001 -5.365625000000001\n",
            "2 2.0999999999999996 -1.36669921875 -1.36669921875\n",
            "3 0.4477813720703132 -1.36669921875 0.4477813720703132\n",
            "4 0.4477813720703132 -0.4408627510070797 -0.4408627510070797\n",
            "5 0.008327355980872753 -0.4408627510070797 0.008327355980872753\n",
            "6 0.008327355980872753 -0.21507753478363156 -0.21507753478363156\n",
            "7 0.008327355980872753 -0.1030741602036862 -0.1030741602036862\n",
            "8 0.008327355980872753 -0.04729774910292761 -0.04729774910292761\n",
            "9 0.008327355980872753 -0.019466230897839054 -0.019466230897839054\n",
            "10 0.008327355980872753 -0.005564689502373099 -0.005564689502373099\n",
            "11 0.0013825210451265946 -0.005564689502373099 0.0013825210451265946\n",
            "12 0.0013825210451265946 -0.0020907873792292975 -0.0020907873792292975\n",
            "13 0.0013825210451265946 -0.00035405894194262544 -0.00035405894194262544\n",
            "14 0.0005142496094645566 -0.00035405894194262544 0.0005142496094645566\n",
            "15 8.009997302949046e-05 -0.00035405894194262544 8.009997302949046e-05\n",
            "16 8.009997302949046e-05 -0.00013697832466341708 -0.00013697832466341708\n",
            "17 8.009997302949046e-05 -2.8438885864900953e-05 -2.8438885864900953e-05\n",
            "18 2.5830616070976475e-05 -2.8438885864900953e-05 2.5830616070976475e-05\n",
            "19 2.5830616070976475e-05 -1.304116775457942e-06 -1.304116775457942e-06\n"
          ]
        }
      ]
    },
    {
      "cell_type": "code",
      "execution_count": 77,
      "metadata": {
        "id": "Aud31k6dNWyj"
      },
      "outputs": [],
      "source": [
        "import math\n",
        "#assert math.isclose(x_mid, 1.1568355560302734)\n",
        "#assert abs (f_mid) < 1e-5"
      ]
    },
    {
      "cell_type": "markdown",
      "metadata": {
        "id": "YhWCVhvINWyj"
      },
      "source": [
        "#### (2) Using a `while` loop\n",
        "\n",
        "Use the variable `counter` for the iteration number.\n",
        "\n",
        "*Remember to guard against infinite loops.*"
      ]
    },
    {
      "cell_type": "code",
      "execution_count": 76,
      "metadata": {
        "colab": {
          "base_uri": "https://localhost:8080/"
        },
        "id": "8H5dj4QYNWyj",
        "outputId": "4f3cef0b-3cd2-44e8-e124-d1a0b53f1f2c"
      },
      "outputs": [
        {
          "output_type": "stream",
          "name": "stdout",
          "text": [
            "0 1.0 1.0\n",
            "1 1.5 0.5\n",
            "2 1.25 0.25\n",
            "3 1.125 0.125\n",
            "4 1.1875 0.0625\n",
            "5 1.15625 0.03125\n",
            "6 1.171875 0.015625\n",
            "7 1.1640625 0.0078125\n",
            "8 1.16015625 0.00390625\n",
            "9 1.158203125 0.001953125\n",
            "10 1.1572265625 0.0009765625\n",
            "11 1.15673828125 0.00048828125\n",
            "12 1.156982421875 0.000244140625\n",
            "13 1.1568603515625 0.0001220703125\n",
            "14 1.15679931640625 6.103515625e-05\n",
            "15 1.156829833984375 3.0517578125e-05\n",
            "16 1.1568450927734375 1.52587890625e-05\n",
            "17 1.1568374633789062 7.62939453125e-06\n",
            "18 1.1568336486816406 3.814697265625e-06\n",
            "19 1.1568355560302734 1.9073486328125e-06\n",
            "20 1.156834602355957 9.5367431640625e-07\n",
            "Root lies in the interval: [1.156834602355957, 1.1568355560302734]\n",
            "Approximate root: 1.156834602355957\n"
          ]
        }
      ],
      "source": [
        "def f(x):\n",
        "    return (x**5) / 10 + x**3 - 10 * x**2 + 4 * x + 7\n",
        "\n",
        "# Initial end points\n",
        "x0 = 0.0\n",
        "x1 = 2.0\n",
        "\n",
        "tol = 1.0e-6\n",
        "error = tol + 1.0  # Initialize error to ensure the loop starts\n",
        "\n",
        "# Iterate until tolerance is met\n",
        "counter = 0\n",
        "while error > tol:\n",
        "    # Compute midpoint\n",
        "    x_mid = (x0 + x1) / 2\n",
        "    f_mid = f(x_mid)\n",
        "    f_x0 = f(x0)\n",
        "\n",
        "    # Check if the root lies in the left or right half\n",
        "    if f_x0 * f_mid < 0:\n",
        "        x1 = x_mid\n",
        "    else:\n",
        "        x0 = x_mid\n",
        "\n",
        "    # Calculate error\n",
        "    error = abs(x1 - x0)  # Error is the interval width\n",
        "\n",
        "    # Guard against an infinite loop\n",
        "    if counter > 1000:\n",
        "        print(\"Oops, iteration count is very large. Breaking out of while loop.\")\n",
        "        break\n",
        "\n",
        "    print(counter, x_mid, error)\n",
        "    counter += 1\n",
        "\n",
        "print(f\"Root lies in the interval: [{x0}, {x1}]\")\n",
        "print(f\"Approximate root: {x_mid}\")\n"
      ]
    },
    {
      "cell_type": "markdown",
      "metadata": {
        "id": "HIlQc4FJNWyk"
      },
      "source": [
        "## Exercise 02.3 (series expansion)\n",
        "\n",
        "For $|x| < 1$ the series:\n",
        "\n",
        "$$\n",
        "(1 + x)^{-1/2} = \\sum_{n = 0}^{\\infty} \\frac{(-1)^n (2n)!}{4^n (n!)^2} x^n\n",
        "$$\n",
        "\n",
        "converges.\n",
        "\n",
        "1. Using a `for` statement, approximate $1/\\sqrt{0.16}$ using 30 terms in the series expansion and report the absolute error.\n",
        "\n",
        "1. Using a `while` statement, compute how many terms in the series are required to approximate $1/\\sqrt{0.16}$ to within $1 \\times 10^{-5}$.\n",
        "\n",
        "Store the absolute value of the error in the variable `error`.\n",
        "\n",
        "### Hints\n",
        "\n",
        "To compute the factorial, use the Python `math` module:\n",
        "```python\n",
        "import math\n",
        "nfact = math.factorial(10)\n",
        "```\n",
        "You only need `import math` once at the top of your program. Standard modules, like `math`, will be explained in a later\n",
        "\n",
        "<!-- The power series expansion for the sine function is:\n",
        "\n",
        "$$\n",
        "\\sin(x) = \\sum_{n = 0}^{\\infty} (-1)^n \\frac{x^{2n +1}}{(2n+1)!}\n",
        "$$\n",
        "\n",
        "(See mathematics data book for a less compact version; this compact version is preferred here as it is simpler to program.)\n",
        "\n",
        "1. Using a `for` statement, approximate $\\sin(3\\pi/2)$ using 15 terms in the series expansion and report the absolute error.\n",
        "\n",
        "1. Using a `while` statement, compute how many terms in the series are required to approximate $\\sin(3\\pi/2)$ to within $1 \\times 10^{-8}$.\n",
        "\n",
        "Store the absolute value of the error in the variable `error`.\n",
        "\n",
        "*Note:* Calculators and computers use iterative or series expansions to compute trigonometric functions, similar to the one above (although they use more efficient formulations than the above series).\n",
        "\n",
        "### Hints\n",
        "\n",
        "To compute the factorial and to get a good approximation of $\\pi$, use the Python `math` module:\n",
        "```python\n",
        "import math\n",
        "nfact = math.factorial(10)\n",
        "pi = math.pi\n",
        "```\n",
        "You only need '`import math`' once at the top of your program. Standard modules, like `math`, will be explained in a later. If you want to test for angles for which sine is not simple, you can use\n",
        "```python\n",
        "a = 1.3\n",
        "s = math.sin(a)\n",
        "```    \n",
        "to get an accurate computation of sine to check the error. -->"
      ]
    },
    {
      "cell_type": "markdown",
      "metadata": {
        "id": "LEQimS1LNWyk"
      },
      "source": [
        "#### (1) Using a `for` loop"
      ]
    },
    {
      "cell_type": "code",
      "execution_count": 74,
      "metadata": {
        "id": "VuyxLhMCNWyk",
        "colab": {
          "base_uri": "https://localhost:8080/"
        },
        "outputId": "0eb964aa-54a1-4577-f2c2-9131b0daf23f"
      },
      "outputs": [
        {
          "output_type": "stream",
          "name": "stdout",
          "text": [
            "The approximation is:\n",
            "2.4968078104263016\n",
            "The error is:\n",
            "0.0031921895736983785\n"
          ]
        }
      ],
      "source": [
        "# Import the math module to access math.factorial\n",
        "import math\n",
        "\n",
        "# Value of x (such that (1 + x) = 0.16\n",
        "x = -0.84\n",
        "\n",
        "# Initialise approximation of the function\n",
        "approx_f = 0.0\n",
        "\n",
        "#True value for comparison\n",
        "true_value = 1/math.sqrt(0.16)\n",
        "\n",
        "# Compute the series approximation using 30 terms\n",
        "for n in range(30):\n",
        "    numerator = (-1)**n * math.factorial(2 * n)\n",
        "    denominator = 4**n * (math.factorial(n))**2\n",
        "    term = (numerator / denominator) * (x ** n)\n",
        "    approx_f += term\n",
        "\n",
        "# Calculate absolute error\n",
        "error = abs(true_value - approx_f)\n",
        "\n",
        "print(\"The approximation is:\")\n",
        "print(approx_f)\n",
        "\n",
        "print(\"The error is:\")\n",
        "print(error)"
      ]
    },
    {
      "cell_type": "markdown",
      "metadata": {
        "id": "TPjAqO24NWyl"
      },
      "source": [
        "#### (2) Using a `while` loop\n",
        "\n",
        "*Remember to guard against infinite loops.*"
      ]
    },
    {
      "cell_type": "code",
      "execution_count": 72,
      "metadata": {
        "id": "f94WVO2TNWyl",
        "colab": {
          "base_uri": "https://localhost:8080/"
        },
        "outputId": "bcada9ca-9013-415c-f15f-0565a35033aa"
      },
      "outputs": [
        {
          "output_type": "stream",
          "name": "stdout",
          "text": [
            "\n",
            "The error is: 1.00001\n",
            "Number of terms in series: 1000\n"
          ]
        }
      ],
      "source": [
        "# Import the math module to access math.sin and math.factorial\n",
        "import math\n",
        "\n",
        "# Value of x (such that (1 - x) = 0.16)\n",
        "x = -0.84\n",
        "\n",
        "# Tolerance and initial error (this just needs to be larger than tol)\n",
        "tol = 1.0e-5\n",
        "error = tol + 1.0\n",
        "\n",
        "# Initialise approximation of function\n",
        "approx_f = 0.0\n",
        "\n",
        "# Initialise counter\n",
        "n = 0\n",
        "\n",
        "# Loop until error satisfies tolerance, with a check to avoid\n",
        "# an infinite loop\n",
        "while error > tol and n < 1000:\n",
        "    term = (-1)**n * math.factorial(2 * n) / (4**n * math.factorial(n)**2)\n",
        "    approx_f += term * x**n\n",
        "\n",
        "    # Increment counter\n",
        "    n += 1\n",
        "\n",
        "\n",
        "print(\"\\nThe error is:\", error)\n",
        "print(\"Number of terms in series:\", n)"
      ]
    }
  ],
  "metadata": {
    "celltoolbar": "Create Assignment",
    "colab": {
      "provenance": [],
      "include_colab_link": true
    },
    "kernelspec": {
      "display_name": "Python 3 (ipykernel)",
      "language": "python",
      "name": "python3"
    },
    "language_info": {
      "codemirror_mode": {
        "name": "ipython",
        "version": 3
      },
      "file_extension": ".py",
      "mimetype": "text/x-python",
      "name": "python",
      "nbconvert_exporter": "python",
      "pygments_lexer": "ipython3",
      "version": "3.10.6"
    },
    "otter": {
      "OK_FORMAT": true,
      "assignment_name": "Exercises 2",
      "tests": {}
    }
  },
  "nbformat": 4,
  "nbformat_minor": 0
}